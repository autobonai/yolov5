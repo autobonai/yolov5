{
 "cells": [
  {
   "cell_type": "code",
   "execution_count": 1,
   "id": "bulgarian-tyler",
   "metadata": {},
   "outputs": [],
   "source": [
    "import json\n",
    "from pathlib import Path\n",
    "\n",
    "import cv2\n",
    "import matplotlib.pyplot as plt\n",
    "import matplotlib.patches as patch"
   ]
  },
  {
   "cell_type": "code",
   "execution_count": 29,
   "id": "collect-bulgaria",
   "metadata": {},
   "outputs": [],
   "source": [
    "PATH_TO_FLIR = Path('/Users/maciejdziubinski/Downloads/FLIR_ADAS_1_3/')\n",
    "\n",
    "CATEGORY_MAP = {\n",
    "    1: 0,\n",
    "    2: 1,\n",
    "    3: 2,\n",
    "    17: 3,\n",
    "}"
   ]
  },
  {
   "cell_type": "code",
   "execution_count": 30,
   "id": "worse-facing",
   "metadata": {},
   "outputs": [
    {
     "name": "stdout",
     "output_type": "stream",
     "text": [
      "\u001b[34mAnnotated_thermal_8_bit\u001b[m\u001b[m/  \u001b[34mthermal_16_bit\u001b[m\u001b[m/           \u001b[31mthermal_annotations.json\u001b[m\u001b[m*\n",
      "\u001b[34mRGB\u001b[m\u001b[m/                      \u001b[34mthermal_8_bit\u001b[m\u001b[m/\n"
     ]
    }
   ],
   "source": [
    "ls {PATH_TO_FLIR / 'train'}"
   ]
  },
  {
   "cell_type": "code",
   "execution_count": 34,
   "id": "saved-release",
   "metadata": {},
   "outputs": [],
   "source": [
    "def parse_labels(data_part, thermal_image_type='thermal_8_bit', debug=False):\n",
    "    assert data_part in ['train', 'val']\n",
    "    \n",
    "    with open(PATH_TO_FLIR / data_part / 'thermal_annotations.json') as inp:\n",
    "        annotations = json.load(inp)\n",
    "    \n",
    "    if debug:\n",
    "        fig, ax = plt.subplots()\n",
    "        \n",
    "    categories = set()\n",
    "    summary_txt = open(PATH_TO_FLIR / f'{data_part}_flir.txt', 'w')\n",
    "    path_to_labels = PATH_TO_FLIR / 'labels' / data_part\n",
    "    path_to_labels.mkdir(parents=True, exist_ok=True)\n",
    "\n",
    "\n",
    "    for image_id, image_spec in enumerate(annotations['images']):\n",
    "        filepath = image_spec['file_name']\n",
    "        if thermal_image_type not in filepath:\n",
    "            continue\n",
    "\n",
    "        image_width = image_spec['width']\n",
    "        image_height = image_spec['height']\n",
    "        summary_txt.write(f'./{data_part}/{filepath}\\n')\n",
    "\n",
    "        labels_txt = open(path_to_labels / filepath.split('/')[1].replace('jpeg', 'txt'), 'w')\n",
    "\n",
    "        if debug: \n",
    "            image = cv2.imread(str(PATH_TO_FLIR / data_part / filepath))\n",
    "            ax.imshow(image)\n",
    "\n",
    "        for annotation in annotations['annotations']:\n",
    "            if annotation['image_id'] != image_id:\n",
    "                continue\n",
    "\n",
    "            x, y, width, height = annotation['bbox']\n",
    "\n",
    "            category_id = CATEGORY_MAP[annotation['category_id']]\n",
    "            if category_id not in categories:\n",
    "                print(f'Adding the {category_id} category')\n",
    "                categories.add(category_id)\n",
    "\n",
    "            x_center = x + width / 2.\n",
    "            y_center = y + height / 2.\n",
    "\n",
    "            labels_txt.write(f'{category_id} {x_center / image_width} {y_center / image_height} {width / image_width} {height / image_height}\\n')\n",
    "\n",
    "            if debug:\n",
    "                rect = patch.Rectangle((x, y), width, height, linewidth=1, edgecolor='r', facecolor='none')\n",
    "                ax.add_patch(rect)\n",
    "                center = patch.Rectangle((x_center, y_center), 1, 1, linewidth=4, edgecolor='g', facecolor='none')\n",
    "                ax.add_patch(center)\n",
    "\n",
    "        labels_txt.close()\n",
    "\n",
    "        if debug: break\n",
    "\n",
    "    if debug:\n",
    "        fig.set_size_inches(20, 20)\n",
    "        plt.show()\n",
    "\n",
    "    summary_txt.close()"
   ]
  },
  {
   "cell_type": "code",
   "execution_count": 35,
   "id": "mighty-exhibition",
   "metadata": {},
   "outputs": [
    {
     "name": "stdout",
     "output_type": "stream",
     "text": [
      "Adding the 2 category\n",
      "Adding the 0 category\n",
      "Adding the 1 category\n",
      "Adding the 3 category\n",
      "CPU times: user 1min 14s, sys: 1.89 s, total: 1min 16s\n",
      "Wall time: 1min 16s\n"
     ]
    }
   ],
   "source": [
    "%time parse_labels('train')"
   ]
  },
  {
   "cell_type": "code",
   "execution_count": 36,
   "id": "robust-gardening",
   "metadata": {},
   "outputs": [
    {
     "name": "stdout",
     "output_type": "stream",
     "text": [
      "Adding the 0 category\n",
      "Adding the 2 category\n",
      "Adding the 1 category\n",
      "Adding the 3 category\n",
      "CPU times: user 2.47 s, sys: 316 ms, total: 2.78 s\n",
      "Wall time: 2.8 s\n"
     ]
    }
   ],
   "source": [
    "%time parse_labels('val')"
   ]
  },
  {
   "cell_type": "code",
   "execution_count": 37,
   "id": "coastal-humor",
   "metadata": {},
   "outputs": [
    {
     "name": "stdout",
     "output_type": "stream",
     "text": [
      "2 0.41875 0.490234375 0.20625 0.23828125\n",
      "2 0.7015625 0.4521484375 0.1375 0.150390625\n",
      "2 0.1625 0.45703125 0.075 0.0546875\n",
      "2 0.2234375 0.4609375 0.04375 0.06640625\n"
     ]
    }
   ],
   "source": [
    "cat /Users/maciejdziubinski/Downloads/FLIR_ADAS_1_3/labels/train/FLIR_00001.txt"
   ]
  },
  {
   "cell_type": "code",
   "execution_count": 38,
   "id": "greek-evidence",
   "metadata": {},
   "outputs": [
    {
     "name": "stdout",
     "output_type": "stream",
     "text": [
      "./train/thermal_8_bit/FLIR_00001.jpeg\n",
      "./train/thermal_8_bit/FLIR_00002.jpeg\n",
      "./train/thermal_8_bit/FLIR_00003.jpeg\n",
      "./train/thermal_8_bit/FLIR_00004.jpeg\n",
      "./train/thermal_8_bit/FLIR_00005.jpeg\n",
      "./train/thermal_8_bit/FLIR_00006.jpeg\n",
      "./train/thermal_8_bit/FLIR_00007.jpeg\n",
      "./train/thermal_8_bit/FLIR_00008.jpeg\n",
      "./train/thermal_8_bit/FLIR_00009.jpeg\n",
      "./train/thermal_8_bit/FLIR_00010.jpeg\n"
     ]
    }
   ],
   "source": [
    "!head /Users/maciejdziubinski/Downloads/FLIR_ADAS_1_3/train_flir.txt"
   ]
  },
  {
   "cell_type": "code",
   "execution_count": null,
   "id": "passive-chassis",
   "metadata": {},
   "outputs": [],
   "source": []
  }
 ],
 "metadata": {
  "kernelspec": {
   "display_name": "Python 3",
   "language": "python",
   "name": "python3"
  },
  "language_info": {
   "codemirror_mode": {
    "name": "ipython",
    "version": 3
   },
   "file_extension": ".py",
   "mimetype": "text/x-python",
   "name": "python",
   "nbconvert_exporter": "python",
   "pygments_lexer": "ipython3",
   "version": "3.9.2"
  }
 },
 "nbformat": 4,
 "nbformat_minor": 5
}
